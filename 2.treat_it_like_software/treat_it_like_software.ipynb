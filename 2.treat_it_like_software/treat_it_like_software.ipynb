{
 "cells": [
  {
   "cell_type": "code",
   "execution_count": 7,
   "metadata": {},
   "outputs": [],
   "source": [
    "import os\n",
    "import yaml\n",
    "import git\n",
    "import pandas as pd\n",
    "from sklearn.model_selection import train_test_split\n",
    "from sklearn.pipeline import Pipeline\n",
    "from sklearn.model_selection import GridSearchCV\n",
    "from sklearn.preprocessing import StandardScaler\n",
    "from sklearn.svm import SVC\n",
    "from sklearn.externals import joblib\n",
    "from sklearn.base import BaseEstimator, TransformerMixin\n",
    "import numpy as np\n",
    "\n",
    "\n",
    "class IrisPredictorTrainer():\n",
    "    def __init__(self,data_path):\n",
    "        self.data_path = data_path\n",
    "        self.loadDataset(data_path)\n",
    "        \n",
    "    def loadDataset(self,path):\n",
    "        with open(path+\"data_config.yaml\", 'r') as stream:\n",
    "            try:\n",
    "                self.database_config = yaml.safe_load(stream)\n",
    "            except yaml.YAMLError as exc:\n",
    "                print(exc)\n",
    "                \n",
    "        data = pd.read_csv(path+self.database_config[\"filename\"],header=None)\n",
    "        \n",
    "        X,y = data.iloc[:,0:4],data.iloc[:,4]\n",
    "        self.X_train, self.X_test, self.y_train, self.y_test = train_test_split(X, y, test_size=0.33, random_state=42)\n",
    "        \n",
    "    def trainModel(self,hiperparam_pipeline):\n",
    "        \n",
    "        pipeline = Pipeline(steps=[(\"flower_ratio_calculator\",FlowerRatioCalculator()),\n",
    "                                   (\"scaler\",StandardScaler()), \n",
    "                                   (\"predictor\",SVC())])\n",
    "        \n",
    "        self.hiperparam_pipeline = hiperparam_pipeline\n",
    "        \n",
    "        self.model = GridSearchCV(estimator=pipeline,\n",
    "                                       param_grid=hiperparam_pipeline,\n",
    "                                       scoring=\"accuracy\",\n",
    "                                       cv=10,\n",
    "                                       n_jobs=4 \n",
    "                                      )\n",
    "        \n",
    "        self.model.fit(self.X_train,self.y_train)\n",
    "        \n",
    "        print(\"Best estimator params\", self.model.best_params_)\n",
    "        print(\"Best estimator cv accuracy\",self.model.best_score_)\n",
    "        \n",
    "        self.test_score = self.model.score(self.X_test,self.y_test)\n",
    "        \n",
    "        print(\"Best estimator test accuracy\",self.test_score)\n",
    "        \n",
    "    def storeModel(self,path,tag=\"\"):\n",
    "        if not os.path.exists(path):\n",
    "            os.makedirs(path)\n",
    "        \n",
    "        model_config = {\"hyper_parameter_grid\": self.hiperparam_pipeline,\n",
    "                        \"best_hyper_parameter\": self.model.best_params_,\n",
    "                        \"repository_tag\": self.getRepoTag(),\n",
    "                        \"pipeline_steps\": [step[0] for step in self.model.best_estimator_.steps],\n",
    "                        \"cv-score\": str(self.model.best_score_),\n",
    "                        \"test-score\": str(self.test_score),\n",
    "                        \"database_config\":self.database_config,\n",
    "                        \"tag\":tag}\n",
    "        \n",
    "        with open(path+'config.yml', 'w') as outfile:\n",
    "            yaml.dump(model_config, outfile, default_flow_style=False)\n",
    "    \n",
    "        joblib.dump(self.model.best_estimator_, path+'model.pkl')\n",
    "        \n",
    "    def getRepoTag(self):\n",
    "        repo = git.Repo(search_parent_directories=True)\n",
    "        return repo.head.object.hexsha\n",
    "\n",
    "class FlowerRatioCalculator( BaseEstimator, TransformerMixin ):\n",
    "    #Class Constructor \n",
    "    def __init__( self,parameters = None):\n",
    "        self.parameters = parameters \n",
    "    \n",
    "    #Return self nothing else to do here    \n",
    "    def fit( self, X, y = None ):\n",
    "        return self \n",
    "    \n",
    "    #Method that describes what we need this transformer to do\n",
    "    def transform( self, X, y = None ):\n",
    "        \n",
    "        X = np.array(X)\n",
    "        X = np.append(X, (X[:,0]/X[:,1]).reshape(-1,1), axis=1)\n",
    "        X = np.append(X, (X[:,2]/X[:,3]).reshape(-1,1), axis=1)\n",
    "        return X\n",
    "    \n",
    "class IrisPredictor():\n",
    "    def __init__(self,path):\n",
    "        self.__model = joblib.load(path)\n",
    "        \n",
    "    def predict(self,data):\n",
    "        return self.__model.predict(data)    "
   ]
  },
  {
   "cell_type": "code",
   "execution_count": 8,
   "metadata": {},
   "outputs": [
    {
     "name": "stdout",
     "output_type": "stream",
     "text": [
      "Best estimator params {'predictor__C': 1, 'predictor__kernel': 'linear'}\n",
      "Best estimator cv accuracy 0.96\n",
      "Best estimator test accuracy 0.96\n"
     ]
    },
    {
     "name": "stderr",
     "output_type": "stream",
     "text": [
      "/usr/lib/python3.6/site-packages/sklearn/model_selection/_search.py:841: DeprecationWarning: The default of the `iid` parameter will change from True to False in version 0.22 and will be removed in 0.24. This will change numeric results when test-set sizes are unequal.\n",
      "  DeprecationWarning)\n"
     ]
    }
   ],
   "source": [
    "ipt = IrisPredictorTrainer(\"./data/\")\n",
    "ipt.trainModel({ \"predictor__C\":[0.01,0.1,1,10,100], \n",
    "                        \"predictor__kernel\":[\"rbf\",\"linear\"], \n",
    "                      })\n",
    "ipt.storeModel(\"./model_v1/\",\"first_model\")"
   ]
  },
  {
   "cell_type": "code",
   "execution_count": 9,
   "metadata": {},
   "outputs": [
    {
     "data": {
      "text/plain": [
       "array(['Iris-versicolor'], dtype=object)"
      ]
     },
     "execution_count": 9,
     "metadata": {},
     "output_type": "execute_result"
    }
   ],
   "source": [
    "from sklearn.externals import joblib\n",
    "import numpy as np\n",
    "ip = IrisPredictor(\"./model_v1/model.pkl\")\n",
    "ip.predict(np.array([[5.7, 2.9, 4.2, 1.3]]))"
   ]
  },
  {
   "cell_type": "code",
   "execution_count": null,
   "metadata": {},
   "outputs": [],
   "source": []
  }
 ],
 "metadata": {
  "kernelspec": {
   "display_name": "Python 3",
   "language": "python",
   "name": "python3"
  },
  "language_info": {
   "codemirror_mode": {
    "name": "ipython",
    "version": 3
   },
   "file_extension": ".py",
   "mimetype": "text/x-python",
   "name": "python",
   "nbconvert_exporter": "python",
   "pygments_lexer": "ipython3",
   "version": "3.6.8"
  }
 },
 "nbformat": 4,
 "nbformat_minor": 2
}
